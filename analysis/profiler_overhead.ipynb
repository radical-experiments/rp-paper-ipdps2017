{
 "cells": [
  {
   "cell_type": "code",
   "execution_count": 2,
   "metadata": {},
   "outputs": [
    {
     "name": "stderr",
     "output_type": "stream",
     "text": [
      "/home/merzky/radical/radical.analytics.devel/ve/local/lib/python2.7/site-packages/radical/utils/atfork/stdlib_fixer.py:63: UserWarning: logging module already imported before fixup.\n",
      "  warnings.warn('logging module already imported before fixup.')\n"
     ]
    },
    {
     "data": {
      "text/html": [
       "<style>.container { width:100% !important; }</style>"
      ],
      "text/plain": [
       "<IPython.core.display.HTML object>"
      ]
     },
     "metadata": {},
     "output_type": "display_data"
    }
   ],
   "source": [
    "%matplotlib inline\n",
    "%run 'bin/notebook_utils.py'"
   ]
  },
  {
   "cell_type": "code",
   "execution_count": 14,
   "metadata": {},
   "outputs": [
    {
     "name": "stdout",
     "output_type": "stream",
     "text": [
      "                                  #sid  cfg     ttc\n",
      "0   profiler_titan_512_32_16384_60_5.0    5  1008.4\n",
      "1   profiler_titan_512_32_16384_60_5.1    5  1080.1\n",
      "2   profiler_titan_512_32_16384_60_5.3    5  1077.8\n",
      "3   profiler_titan_512_32_16384_60_5.8    5  1018.9\n",
      "4   profiler_titan_512_32_16384_60_5.9    5  1042.3\n",
      "5   profiler_titan_512_32_16384_60_6.0    6  1052.9\n",
      "6   profiler_titan_512_32_16384_60_6.1    6   999.0\n",
      "7   profiler_titan_512_32_16384_60_6.2    6  1022.4\n",
      "8   profiler_titan_512_32_16384_60_6.3    6  1040.5\n",
      "9   profiler_titan_512_32_16384_60_6.4    6  1046.9\n",
      "10  profiler_titan_512_32_16384_60_6.5    6  1032.6\n",
      "11  profiler_titan_512_32_16384_60_6.6    6  1089.5\n",
      "12  profiler_titan_512_32_16384_60_6.7    6  1144.9\n",
      "13  profiler_titan_512_32_16384_60_6.8    6  1147.4\n",
      "14  profiler_titan_512_32_16384_60_6.9    6  1116.2\n",
      "[ 1008.4  1080.1  1077.8  1018.9  1042.3]\n",
      "[ 1052.9   999.   1022.4  1040.5  1046.9  1032.6  1089.5  1144.9  1147.4\n",
      "  1116.2]\n"
     ]
    }
   ],
   "source": [
    "prof_csv = '../rawdata/profiler_overhead/profiler_data.csv'\n",
    "\n",
    "all_df = pd.read_csv(prof_csv)\n",
    "print all_df\n",
    "\n",
    "prof_df  = all_df.loc[all_df['cfg'] == 5]\n",
    "plain_df = all_df.loc[all_df['cfg'] == 6]\n",
    "\n",
    "print prof_df['ttc'].values\n",
    "print plain_df['ttc'].values\n"
   ]
  },
  {
   "cell_type": "code",
   "execution_count": 31,
   "metadata": {},
   "outputs": [
    {
     "data": {
      "image/png": "[encoded data removed]",
      "text/plain": [
       "<matplotlib.figure.Figure at 0x7f3e80d2ab90>"
      ]
     },
     "metadata": {},
     "output_type": "display_data"
    }
   ],
   "source": [
    "\n",
    "# plot time spent in\n",
    "#  - reading the unit's resource requiremeents\n",
    "#  - finding suitable resources\n",
    "#  - recording the findings (in the schedule data structure and in the unit)\n",
    "\n",
    "\n",
    "fig, ax  = fig_setup(figsize=(7,7))\n",
    "ssize    = 4096\n",
    "\n",
    "box = plt.boxplot([plain_df['ttc'].values, prof_df['ttc'].values], patch_artist=True)\n",
    "\n",
    "colors = ['lightgreen', 'tan']\n",
    "for patch, color in zip(box['boxes'], colors):\n",
    "    patch.set(facecolor=color)       \n",
    "\n",
    "    \n",
    "plt.legend(loc='upper right', bbox_to_anchor=(1.7,1), labels=['profiled', 'plain'])\n",
    "plt.xlabel('run mode')\n",
    "plt.ylabel('ttc')\n",
    "\n",
    "plt.savefig('figures/paper_titan_rp_profiler_overhead.pdf', dpi=300, bbox_inches='tight')"
   ]
  },
  {
   "cell_type": "code",
   "execution_count": null,
   "metadata": {},
   "outputs": [],
   "source": [
    "alpha=0.5"
   ]
  }
 ],
 "metadata": {
  "hide_input": false,
  "kernelspec": {
   "display_name": "Python 2",
   "language": "python",
   "name": "python2"
  },
  "language_info": {
   "codemirror_mode": {
    "name": "ipython",
    "version": 2
   },
   "file_extension": ".py",
   "mimetype": "text/x-python",
   "name": "python",
   "nbconvert_exporter": "python",
   "pygments_lexer": "ipython2",
   "version": "2.7.13"
  },
  "latex_envs": {
   "LaTeX_envs_menu_present": true,
   "autocomplete": true,
   "bibliofile": "",
   "cite_by": "apalike",
   "current_citInitial": 1,
   "eqLabelWithNumbers": true,
   "eqNumInitial": 1,
   "hotkeys": {
    "equation": "Ctrl-E",
    "itemize": "Ctrl-I"
   },
   "labels_anchors": false,
   "latex_user_defs": false,
   "report_style_numbering": false,
   "user_envs_cfg": false
  }
 },
 "nbformat": 4,
 "nbformat_minor": 2
}
