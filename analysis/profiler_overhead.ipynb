{
 "cells": [
  {
   "cell_type": "code",
   "execution_count": 44,
   "metadata": {},
   "outputs": [
    {
     "data": {
      "text/html": [
       "<style>.container { width:100% !important; }</style>"
      ],
      "text/plain": [
       "<IPython.core.display.HTML object>"
      ]
     },
     "metadata": {},
     "output_type": "display_data"
    }
   ],
   "source": [
    "%matplotlib inline\n",
    "%run 'bin/notebook_utils.py'\n"
   ]
  },
  {
   "cell_type": "code",
   "execution_count": 47,
   "metadata": {},
   "outputs": [
    {
     "name": "stdout",
     "output_type": "stream",
     "text": [
      "plain   :  1045.5 +=  29.4\n",
      "profiled:  1069.2 +=  49.5\n"
     ]
    }
   ],
   "source": [
    "prof_csv = '../rawdata/profiler_overhead/profiler_data.csv'\n",
    "\n",
    "all_df = pd.read_csv(prof_csv)\n",
    "# print all_df\n",
    "\n",
    "plain_df = all_df.loc[all_df['cfg'] == 5]\n",
    "prof_df  = all_df.loc[all_df['cfg'] == 6]\n",
    "\n",
    "prof_list  = prof_df['ttc'].values\n",
    "plain_list = plain_df['ttc'].values\n",
    "\n",
    "prof_sigma  = np.sqrt(np.var(prof_list))\n",
    "plain_sigma = np.sqrt(np.var(plain_list))\n",
    "\n",
    "prof_mean   = np.mean(prof_list)\n",
    "plain_mean  = np.mean(plain_list)\n",
    "\n",
    "print 'plain   : %7.1f += %5.1f' % (plain_mean, plain_sigma)\n",
    "print 'profiled: %7.1f += %5.1f' % (prof_mean, prof_sigma)\n"
   ]
  },
  {
   "cell_type": "code",
   "execution_count": 48,
   "metadata": {},
   "outputs": [
    {
     "data": {
      "image/png": "[encoded data removed]",
      "text/plain": [
       "<matplotlib.figure.Figure at 0x7f3e80b7ac90>"
      ]
     },
     "metadata": {},
     "output_type": "display_data"
    }
   ],
   "source": [
    "\n",
    "# plot time spent in\n",
    "#  - reading the unit's resource requiremeents\n",
    "#  - finding suitable resources\n",
    "#  - recording the findings (in the schedule data structure and in the unit)\n",
    "\n",
    "\n",
    "fig, ax  = fig_setup(figsize=(7,7))\n",
    "ssize    = 4096\n",
    "\n",
    "box = plt.boxplot([plain_df['ttc'].values, prof_df['ttc'].values], patch_artist=True)\n",
    "\n",
    "colors = ['lightgreen', 'tan']\n",
    "for patch, color in zip(box['boxes'], colors):\n",
    "    patch.set(facecolor=color)       \n",
    "\n",
    "    \n",
    "plt.legend(loc='upper right', bbox_to_anchor=(1.7,1), labels=['profiled', 'plain'])\n",
    "plt.xlabel('run mode')\n",
    "plt.ylabel('ttc')\n",
    "\n",
    "plt.savefig('figures/paper_titan_rp_profiler_overhead.pdf', dpi=300, bbox_inches='tight')"
   ]
  },
  {
   "cell_type": "code",
   "execution_count": null,
   "metadata": {},
   "outputs": [],
   "source": [
    "alpha=0.5"
   ]
  }
 ],
 "metadata": {
  "hide_input": false,
  "kernelspec": {
   "display_name": "Python 2",
   "language": "python",
   "name": "python2"
  },
  "language_info": {
   "codemirror_mode": {
    "name": "ipython",
    "version": 2
   },
   "file_extension": ".py",
   "mimetype": "text/x-python",
   "name": "python",
   "nbconvert_exporter": "python",
   "pygments_lexer": "ipython2",
   "version": "2.7.13"
  },
  "latex_envs": {
   "LaTeX_envs_menu_present": true,
   "autocomplete": true,
   "bibliofile": "",
   "cite_by": "apalike",
   "current_citInitial": 1,
   "eqLabelWithNumbers": true,
   "eqNumInitial": 1,
   "hotkeys": {
    "equation": "Ctrl-E",
    "itemize": "Ctrl-I"
   },
   "labels_anchors": false,
   "latex_user_defs": false,
   "report_style_numbering": false,
   "user_envs_cfg": false
  }
 },
 "nbformat": 4,
 "nbformat_minor": 2
}
