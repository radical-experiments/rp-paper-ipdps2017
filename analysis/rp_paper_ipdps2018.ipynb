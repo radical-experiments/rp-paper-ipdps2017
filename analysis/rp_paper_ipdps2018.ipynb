{
 "cells": [
  {
   "cell_type": "code",
   "execution_count": 1,
   "metadata": {},
   "outputs": [
    {
     "name": "stderr",
     "output_type": "stream",
     "text": [
      "/Users/mturilli/Virtualenvs/RP-PAPER-IPDPS18/lib/python2.7/site-packages/radical/utils/atfork/stdlib_fixer.py:63: UserWarning: logging module already imported before fixup.\n",
      "  warnings.warn('logging module already imported before fixup.')\n"
     ]
    }
   ],
   "source": [
    "%matplotlib inline\n",
    "\n",
    "import numpy as np\n",
    "import scipy as sp\n",
    "import pandas as pd\n",
    "\n",
    "import matplotlib as mpl\n",
    "import matplotlib.pyplot as plt\n",
    "\n",
    "import radical.utils as ru\n",
    "import radical.pilot as rp\n",
    "import radical.analytics as ra\n",
    "\n",
    "from IPython.core.display import display, HTML\n",
    "\n",
    "pd.set_option('expand_frame_repr', False)\n",
    "pd.set_option('display.max_rows', 50)"
   ]
  },
  {
   "cell_type": "code",
   "execution_count": 2,
   "metadata": {},
   "outputs": [
    {
     "data": {
      "text/html": [
       "<style>.container { width:100% !important; }</style>"
      ],
      "text/plain": [
       "<IPython.core.display.HTML object>"
      ]
     },
     "metadata": {},
     "output_type": "display_data"
    }
   ],
   "source": [
    "# Global configurations\n",
    "# ---------------------\n",
    "\n",
    "# Expand the notebook to the width of the browser\n",
    "display(HTML(\"<style>.container { width:100% !important; }</style>\"))\n",
    "\n",
    "# Matplotlib style\n",
    "plt.style.use('seaborn-ticks')\n",
    "\n",
    "# Use LaTeX and its body font for the diagrams' text.\n",
    "mpl.rcParams['text.usetex'] = True\n",
    "mpl.rcParams['text.latex.unicode'] = True\n",
    "mpl.rcParams['font.family'] = 'serif'\n",
    "mpl.rcParams['font.serif']  = ['Nimbus Roman Becker No9L']\n",
    "\n",
    "# Font sizes\n",
    "SIZE = 24\n",
    "plt.rc('font', size=SIZE)  # controls default text sizes\n",
    "plt.rc('axes', titlesize=SIZE)  # fontsize of the axes title\n",
    "plt.rc('axes', labelsize=SIZE)  # fontsize of the x any y labels\n",
    "plt.rc('xtick', labelsize=SIZE)  # fontsize of the tick labels\n",
    "plt.rc('ytick', labelsize=SIZE)  # fontsize of the tick labels\n",
    "plt.rc('legend', fontsize=SIZE-2)  # legend fontsize\n",
    "plt.rc('figure', titlesize=SIZE)  # # size of the figure title\n",
    "\n",
    "# Use thinner lines for axes to avoid distractions.\n",
    "mpl.rcParams['axes.linewidth']    = 0.75\n",
    "mpl.rcParams['xtick.major.width'] = 0.75\n",
    "mpl.rcParams['xtick.minor.width'] = 0.75\n",
    "mpl.rcParams['ytick.major.width'] = 0.75\n",
    "mpl.rcParams['ytick.minor.width'] = 0.75\n",
    "mpl.rcParams['lines.linewidth'] = 2\n",
    "\n",
    "\n",
    "# Do not use a box for the legend to avoid distractions.\n",
    "mpl.rcParams['legend.frameon'] = False\n",
    "\n",
    "# Restore part of matplotlib 1.5 behavior\n",
    "mpl.rcParams['patch.force_edgecolor'] = True\n",
    "mpl.rcParams['errorbar.capsize'] = 3\n",
    "\n",
    "# Helpers\n",
    "# -------\n",
    "\n",
    "# Use coordinated colors. These are the \"Tableau 20\" colors as \n",
    "# RGB. Each pair is strong/light. For a theory of color    \n",
    "tableau20 = [(31 , 119, 180), (174, 199, 232), # blue        [ 0,1 ]\n",
    "             (255, 127, 14 ), (255, 187, 120), # orange      [ 2,3 ]\n",
    "             (44 , 160, 44 ), (152, 223, 138), # green       [ 4,5 ]\n",
    "             (214, 39 , 40 ), (255, 152, 150), # red         [ 6,7 ]\n",
    "             (148, 103, 189), (197, 176, 213), # purple      [ 8,9 ]\n",
    "             (140, 86 , 75 ), (196, 156, 148), # brown       [10,11]\n",
    "             (227, 119, 194), (247, 182, 210), # pink        [12,13]\n",
    "             (188, 189, 34 ), (219, 219, 141), # yellow      [14,15]\n",
    "             (23 , 190, 207), (158, 218, 229), # cyan        [16,17]\n",
    "             (65 , 68 , 81 ), (96 , 99 , 106), # gray        [18,19]\n",
    "             (127, 127, 127), (143, 135, 130), # gray        [20,21] \n",
    "             (165, 172, 175), (199, 199, 199), # gray        [22,23]\n",
    "             (207, 207, 207)]                   # gray        [24]\n",
    "  \n",
    "# Scale the RGB values to the [0, 1] range, which is the format \n",
    "# matplotlib accepts.    \n",
    "for i in range(len(tableau20)):  \n",
    "    r, g, b = tableau20[i]  \n",
    "    tableau20[i] = (r / 255., g / 255., b / 255.)    \n",
    "\n",
    "# Return a single plot without right and top axes\n",
    "def fig_setup():\n",
    "    fig = plt.figure(figsize=(13,7))\n",
    "    ax = fig.add_subplot(111)  \n",
    "    ax.spines[\"top\"].set_visible(False)  \n",
    "    ax.spines[\"right\"].set_visible(False)  \n",
    "    ax.get_xaxis().tick_bottom()  \n",
    "    ax.get_yaxis().tick_left()\n",
    "    \n",
    "    return fig, ax"
   ]
  },
  {
   "cell_type": "code",
   "execution_count": 3,
   "metadata": {},
   "outputs": [],
   "source": [
    "# Load wrangled data saved in .csv files.\n",
    "sessions = pd.read_csv('data/sessions.csv', index_col=0)\n",
    "pilots = pd.read_csv('data/pilots.csv', index_col=0)\n",
    "units = pd.read_csv('data/units.csv', index_col=0)"
   ]
  },
  {
   "cell_type": "code",
   "execution_count": 4,
   "metadata": {},
   "outputs": [
    {
     "name": "stdout",
     "output_type": "stream",
     "text": [
      "Total number of successful runs: 2\n",
      "Total number of pilots: 2\n",
      "Total number of units: 384\n"
     ]
    }
   ],
   "source": [
    "print 'Total number of successful runs: %s' % sessions.shape[0]\n",
    "print 'Total number of pilots: %s' % pilots.shape[0]\n",
    "print 'Total number of units: %s' % units.shape[0]"
   ]
  },
  {
   "cell_type": "markdown",
   "metadata": {},
   "source": [
    "# Weak Scaling (exp1)\n",
    "\n",
    "Definitions: \n",
    "* Weak scalability: how the solution time varies with the number of processors for a fixed problem size per processor\n",
    "* Ideal Runtime: the time taken by the workload to run on the given resources without any overhead\n",
    "* Walltime: the walltime asked for the pilot\n",
    "* Max Walltime: the maximum walltime that can be asked for the given size of the pilot\n",
    "\n",
    "|N runs| N tasks | N core/task | N generations | N pilot | N core/pilot | Ideal Runtime  | Walltime | Max Walltime | Resource |\n",
    "|------|---------|-------------|---------------|---------|--------------|----------------|----------|--------------|----------|\n",
    "| 2    | 32      | 32          | 1             | 1       | 1024         | 15m            | 1h       | 1h           | Titan    |\n",
    "| 2    | 64      | 32          | 1             | 1       | 2048         | 15m            | 1h       | 6h           | Titan    |\n",
    "| 2    | 128     | 32          | 1             | 1       | 4096         | 15m            | 1h       | 6h           | Titan    |\n",
    "| 2    | 256     | 32          | 1             | 1       | 8192         | 15m            | 1h       | 12h          | Titan    |\n",
    "| 2    | 512     | 32          | 1             | 1       | 16384        | 15m            | 1h       | 12h          | Titan    |\n",
    "| 2    | 1024    | 32          | 1             | 1       | 32768        | 15m            | 1h       | 12h          | Titan    |\n",
    "| 2    | 2048    | 32          | 1             | 1       | 65536        | 15m            | 1h       | 24h          | Titan    |\n",
    "| 2    | 4096    | 32          | 1             | 1       | 131072       | 15m            | 1h       | 24h          | Titan    |\n",
    "| 2    | 8192    | 32          | 1             | 1       | 262144       | 15m            | 1h       | 24h          | Titan    |"
   ]
  },
  {
   "cell_type": "code",
   "execution_count": 5,
   "metadata": {},
   "outputs": [
    {
     "data": {
      "text/html": [
       "<div>\n",
       "<style>\n",
       "    .dataframe thead tr:only-child th {\n",
       "        text-align: right;\n",
       "    }\n",
       "\n",
       "    .dataframe thead th {\n",
       "        text-align: left;\n",
       "    }\n",
       "\n",
       "    .dataframe tbody tr th {\n",
       "        vertical-align: top;\n",
       "    }\n",
       "</style>\n",
       "<table border=\"1\" class=\"dataframe\">\n",
       "  <thead>\n",
       "    <tr>\n",
       "      <th></th>\n",
       "      <th colspan=\"2\" halign=\"left\">TTC</th>\n",
       "      <th colspan=\"2\" halign=\"left\">TTX</th>\n",
       "    </tr>\n",
       "    <tr>\n",
       "      <th></th>\n",
       "      <th>mean</th>\n",
       "      <th>std</th>\n",
       "      <th>mean</th>\n",
       "      <th>std</th>\n",
       "    </tr>\n",
       "    <tr>\n",
       "      <th>nunit</th>\n",
       "      <th></th>\n",
       "      <th></th>\n",
       "      <th></th>\n",
       "      <th></th>\n",
       "    </tr>\n",
       "  </thead>\n",
       "  <tbody>\n",
       "    <tr>\n",
       "      <th>128</th>\n",
       "      <td>1.506075e+09</td>\n",
       "      <td>NaN</td>\n",
       "      <td>0.0000</td>\n",
       "      <td>NaN</td>\n",
       "    </tr>\n",
       "    <tr>\n",
       "      <th>256</th>\n",
       "      <td>1.506077e+09</td>\n",
       "      <td>NaN</td>\n",
       "      <td>27.4932</td>\n",
       "      <td>NaN</td>\n",
       "    </tr>\n",
       "  </tbody>\n",
       "</table>\n",
       "</div>"
      ],
      "text/plain": [
       "                TTC          TTX    \n",
       "               mean std     mean std\n",
       "nunit                               \n",
       "128    1.506075e+09 NaN   0.0000 NaN\n",
       "256    1.506077e+09 NaN  27.4932 NaN"
      ]
     },
     "execution_count": 5,
     "metadata": {},
     "output_type": "execute_result"
    }
   ],
   "source": [
    "wscaling = sessions[sessions.experiment == 'exp1'][\n",
    "    ['nunit','TTC','U_AGENT_EXECUTING']\n",
    "        ].groupby(['nunit']).aggregate(\n",
    "                {'TTC'  : ['mean','std'],\n",
    "                 'U_AGENT_EXECUTING': ['mean','std']})\n",
    "\n",
    "wscaling.rename_axis({'U_AGENT_EXECUTING':'TTX'}, axis='columns', inplace=True)\n",
    "wscaling"
   ]
  },
  {
   "cell_type": "code",
   "execution_count": 6,
   "metadata": {},
   "outputs": [
    {
     "data": {
      "text/plain": [
       "(-0.5, 1.5)"
      ]
     },
     "execution_count": 6,
     "metadata": {},
     "output_type": "execute_result"
    },
    {
     "data": {
      "image/png": "[encoded data removed]",
      "text/plain": [
       "<matplotlib.figure.Figure at 0x110d1eed0>"
      ]
     },
     "metadata": {},
     "output_type": "display_data"
    }
   ],
   "source": [
    "fig = plt.figure(figsize=(13,7))\n",
    "ax = fig.add_subplot(111)  \n",
    "\n",
    "title_head = 'ORNL: Titan'\n",
    "title_work = 'Weak Scaling: 32-8192 tasks; 32 cores/task; 1024-262144 cores; 15m/task.' \n",
    "title_desc = 'Time to completion (TTC); Execution time (TTX)'\n",
    "title = '%s\\n%s\\n%s' % (title_head, title_work, title_desc)\n",
    "fig.suptitle(title, y=1.05)\n",
    "\n",
    "# Plot means and std bars\n",
    "wscaling['TTC'].reset_index().plot(\n",
    "    x='nunit', \n",
    "    y='mean', \n",
    "    yerr='std',\n",
    "    position=1,\n",
    "    width=0.25,\n",
    "    color=tableau20[1],\n",
    "    ax=ax,\n",
    "    rot=0,\n",
    "    label='TTC',\n",
    "    kind='bar')\n",
    "\n",
    "wscaling['TTX'].reset_index().plot(\n",
    "    x='nunit', \n",
    "    y='mean', \n",
    "    yerr='std',\n",
    "    secondary_y=True,\n",
    "    position=0,\n",
    "    width=0.25,\n",
    "    rot=0,\n",
    "    color=tableau20[9],\n",
    "    ax=ax,\n",
    "    label='TTX',\n",
    "    kind='bar')\n",
    "\n",
    "\n",
    "ax.set_xlabel('Number of Tasks')\n",
    "ax.set_ylabel('Time (s)')\n",
    "ax.right_ax.set_ylabel('Time (s)')\n",
    "ax.set_xlim(-0.5)\n",
    "\n",
    "#plt.savefig('figures/weak_scaling.pdf', dpi=600, bbox_inches='tight')"
   ]
  },
  {
   "cell_type": "code",
   "execution_count": null,
   "metadata": {},
   "outputs": [],
   "source": []
  }
 ],
 "metadata": {
  "hide_input": false,
  "kernelspec": {
   "display_name": "Python 2",
   "language": "python",
   "name": "python2"
  },
  "language_info": {
   "codemirror_mode": {
    "name": "ipython",
    "version": 2
   },
   "file_extension": ".py",
   "mimetype": "text/x-python",
   "name": "python",
   "nbconvert_exporter": "python",
   "pygments_lexer": "ipython2",
   "version": "2.7.10"
  },
  "latex_envs": {
   "LaTeX_envs_menu_present": true,
   "autocomplete": true,
   "bibliofile": "biblio.bib",
   "cite_by": "apalike",
   "current_citInitial": 1,
   "eqLabelWithNumbers": true,
   "eqNumInitial": 1,
   "hotkeys": {
    "equation": "Ctrl-E",
    "itemize": "Ctrl-I"
   },
   "labels_anchors": false,
   "latex_user_defs": false,
   "report_style_numbering": false,
   "user_envs_cfg": false
  }
 },
 "nbformat": 4,
 "nbformat_minor": 2
}
