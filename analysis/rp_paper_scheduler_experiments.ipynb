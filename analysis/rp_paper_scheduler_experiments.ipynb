{
 "cells": [
  {
   "cell_type": "code",
   "execution_count": 1,
   "metadata": {},
   "outputs": [
    {
     "data": {
      "text/html": [
       "<style>.container { width:100% !important; }</style>"
      ],
      "text/plain": [
       "<IPython.core.display.HTML object>"
      ]
     },
     "metadata": {},
     "output_type": "display_data"
    }
   ],
   "source": [
    "%matplotlib inline\n",
    "%run 'bin/notebook_utils.py'"
   ]
  },
  {
   "cell_type": "code",
   "execution_count": 2,
   "metadata": {},
   "outputs": [],
   "source": [
    "# Load wrangled data saved in .csv files for scheduling experiment sessions\n",
    "sch_sessions = pd.read_csv('data/scheduler/sessions.csv', index_col=0)\n",
    "sch_pilots = pd.read_csv('data/scheduler/pilots.csv', index_col=0)\n",
    "sch_units = pd.read_csv('data/scheduler/units.csv', index_col=0)"
   ]
  },
  {
   "cell_type": "code",
   "execution_count": 3,
   "metadata": {},
   "outputs": [
    {
     "name": "stdout",
     "output_type": "stream",
     "text": [
      "Scheduler: Total number of experiments: 3\n",
      "Scheduler: Total number of successful runs: 3\n",
      "Scheduler: Total number of pilots: 3\n",
      "Scheduler: Total number of units: 2560\n",
      "\n"
     ]
    }
   ],
   "source": [
    "print 'Scheduler: Total number of experiments: %s' % sch_sessions['experiment'].shape[0]\n",
    "print 'Scheduler: Total number of successful runs: %s' % sch_sessions.shape[0]\n",
    "print 'Scheduler: Total number of pilots: %s' % sch_pilots.shape[0]\n",
    "print 'Scheduler: Total number of units: %s\\n' % sch_units.shape[0]"
   ]
  },
  {
   "cell_type": "code",
   "execution_count": 4,
   "metadata": {},
   "outputs": [
    {
     "data": {
      "text/html": [
       "<div>\n",
       "<style scoped>\n",
       "    .dataframe tbody tr th:only-of-type {\n",
       "        vertical-align: middle;\n",
       "    }\n",
       "\n",
       "    .dataframe tbody tr th {\n",
       "        vertical-align: top;\n",
       "    }\n",
       "\n",
       "    .dataframe thead tr th {\n",
       "        text-align: left;\n",
       "    }\n",
       "\n",
       "    .dataframe thead tr:last-of-type th {\n",
       "        text-align: right;\n",
       "    }\n",
       "</style>\n",
       "<table border=\"1\" class=\"dataframe\">\n",
       "  <thead>\n",
       "    <tr>\n",
       "      <th></th>\n",
       "      <th></th>\n",
       "      <th colspan=\"2\" halign=\"left\">TTQ</th>\n",
       "      <th colspan=\"2\" halign=\"left\">Agent queueing</th>\n",
       "      <th colspan=\"2\" halign=\"left\">Agent queueing execution</th>\n",
       "      <th colspan=\"2\" halign=\"left\">TTX</th>\n",
       "      <th colspan=\"2\" halign=\"left\">TTC</th>\n",
       "      <th colspan=\"2\" halign=\"left\">Agent scheduling</th>\n",
       "    </tr>\n",
       "    <tr>\n",
       "      <th></th>\n",
       "      <th></th>\n",
       "      <th>mean</th>\n",
       "      <th>std</th>\n",
       "      <th>mean</th>\n",
       "      <th>std</th>\n",
       "      <th>mean</th>\n",
       "      <th>std</th>\n",
       "      <th>mean</th>\n",
       "      <th>std</th>\n",
       "      <th>mean</th>\n",
       "      <th>std</th>\n",
       "      <th>mean</th>\n",
       "      <th>std</th>\n",
       "    </tr>\n",
       "    <tr>\n",
       "      <th>experiment</th>\n",
       "      <th>nunit</th>\n",
       "      <th></th>\n",
       "      <th></th>\n",
       "      <th></th>\n",
       "      <th></th>\n",
       "      <th></th>\n",
       "      <th></th>\n",
       "      <th></th>\n",
       "      <th></th>\n",
       "      <th></th>\n",
       "      <th></th>\n",
       "      <th></th>\n",
       "      <th></th>\n",
       "    </tr>\n",
       "  </thead>\n",
       "  <tbody>\n",
       "    <tr>\n",
       "      <th>exp1</th>\n",
       "      <th>256/8192</th>\n",
       "      <td>23676.0705</td>\n",
       "      <td>NaN</td>\n",
       "      <td>11.0161</td>\n",
       "      <td>NaN</td>\n",
       "      <td>4.835300</td>\n",
       "      <td>NaN</td>\n",
       "      <td>1316.2753</td>\n",
       "      <td>NaN</td>\n",
       "      <td>2.507315e+04</td>\n",
       "      <td>NaN</td>\n",
       "      <td>3.176800</td>\n",
       "      <td>NaN</td>\n",
       "    </tr>\n",
       "    <tr>\n",
       "      <th>exp2</th>\n",
       "      <th>256/8192</th>\n",
       "      <td>1022.3516</td>\n",
       "      <td>NaN</td>\n",
       "      <td>13.9417</td>\n",
       "      <td>NaN</td>\n",
       "      <td>0.515802</td>\n",
       "      <td>NaN</td>\n",
       "      <td>1053.3465</td>\n",
       "      <td>NaN</td>\n",
       "      <td>1.540692e+09</td>\n",
       "      <td>NaN</td>\n",
       "      <td>4.412299</td>\n",
       "      <td>NaN</td>\n",
       "    </tr>\n",
       "    <tr>\n",
       "      <th>exp3</th>\n",
       "      <th>2048/65536</th>\n",
       "      <td>8623.3539</td>\n",
       "      <td>NaN</td>\n",
       "      <td>124.2952</td>\n",
       "      <td>NaN</td>\n",
       "      <td>61.680899</td>\n",
       "      <td>NaN</td>\n",
       "      <td>1342.4023</td>\n",
       "      <td>NaN</td>\n",
       "      <td>1.540699e+09</td>\n",
       "      <td>NaN</td>\n",
       "      <td>99.525200</td>\n",
       "      <td>NaN</td>\n",
       "    </tr>\n",
       "  </tbody>\n",
       "</table>\n",
       "</div>"
      ],
      "text/plain": [
       "                              TTQ     Agent queueing     Agent queueing execution            TTX               TTC     Agent scheduling    \n",
       "                             mean std           mean std                     mean std       mean std          mean std             mean std\n",
       "experiment nunit                                                                                                                           \n",
       "exp1       256/8192    23676.0705 NaN        11.0161 NaN                 4.835300 NaN  1316.2753 NaN  2.507315e+04 NaN         3.176800 NaN\n",
       "exp2       256/8192     1022.3516 NaN        13.9417 NaN                 0.515802 NaN  1053.3465 NaN  1.540692e+09 NaN         4.412299 NaN\n",
       "exp3       2048/65536   8623.3539 NaN       124.2952 NaN                61.680899 NaN  1342.4023 NaN  1.540699e+09 NaN        99.525200 NaN"
      ]
     },
     "execution_count": 4,
     "metadata": {},
     "output_type": "execute_result"
    }
   ],
   "source": [
    "sch = sch_sessions[\n",
    "    ['experiment',\n",
    "     'nunit',\n",
    "     'TTC',\n",
    "     'P_LRMS_QUEUING',\n",
    "     'U_AGENT_QUEUING',\n",
    "     'U_AGENT_SCHEDULING',\n",
    "     'U_AGENT_QUEUING_EXEC',\n",
    "     'U_AGENT_EXECUTING']\n",
    "        ].groupby(['experiment','nunit']).agg(\n",
    "                {'TTC'                 : ['mean','std'],\n",
    "                 'P_LRMS_QUEUING'      : ['mean','std'],\n",
    "                 'U_AGENT_QUEUING'     : ['mean','std'],\n",
    "                 'U_AGENT_SCHEDULING'  : ['mean','std'],\n",
    "                 'U_AGENT_QUEUING_EXEC': ['mean','std'],\n",
    "                 'U_AGENT_EXECUTING'   : ['mean','std']})\n",
    "\n",
    "# Rename columns for readibility\n",
    "sch.rename({'P_LRMS_QUEUING'      :'TTQ'}, axis='columns', inplace=True)\n",
    "sch.rename({'U_AGENT_QUEUING'     :'Agent queueing'}, axis='columns', inplace=True)\n",
    "sch.rename({'U_AGENT_SCHEDULING'  :'Agent scheduling'}, axis='columns', inplace=True)\n",
    "sch.rename({'U_AGENT_QUEUING_EXEC':'Agent queueing execution'}, axis='columns', inplace=True)\n",
    "sch.rename({'U_AGENT_EXECUTING'   :'TTX'}, axis='columns', inplace=True)\n",
    "sch.rename(index={i[1]: '%s/%s' % (i[1], i[1]*32) for i in sch.index.get_values()}, inplace=True, level=1)\n",
    "sch"
   ]
  },
  {
   "cell_type": "code",
   "execution_count": 5,
   "metadata": {},
   "outputs": [
    {
     "name": "stdout",
     "output_type": "stream",
     "text": [
      "conflicting time sync for bootstrap_0.prof                              (titan-batch3.ccs.ornl.gov:10.128.36.164):      -0.18 -      -4.77 =  4.59\n",
      "conflicting time sync for agent_0.prof                                  (titan-batch3.ccs.ornl.gov:10.128.36.164):      -0.18 -      -4.77 =  4.59\n",
      "conflicting time sync for agent_0.prof                                  (titan-batch3.ccs.ornl.gov:10.128.36.164):      -0.04 -      -4.77 =  4.73\n",
      "conflicting time sync for agent_0.staging.input.0.prof                  (titan-batch3.ccs.ornl.gov:10.128.36.164):      -0.01 -      -4.77 =  4.76\n",
      "conflicting time sync for agent_0.staging.output.0.prof                 (titan-batch3.ccs.ornl.gov:10.128.36.164):      -0.02 -      -4.77 =  4.75\n",
      "conflicting time sync for agent_0.staging.input.0.child.prof            (titan-batch3.ccs.ornl.gov:10.128.36.164):      -0.02 -      -4.77 =  4.75\n",
      "conflicting time sync for update.0.child.prof                           (titan-batch3.ccs.ornl.gov:10.128.36.164):      -0.01 -      -4.77 =  4.76\n",
      "conflicting time sync for update.0.prof                                 (titan-batch3.ccs.ornl.gov:10.128.36.164):      -0.02 -      -4.77 =  4.75\n"
     ]
    }
   ],
   "source": [
    "import sys\n",
    "import pprint\n",
    "\n",
    "import matplotlib.pyplot as plt\n",
    "import numpy             as np\n",
    "\n",
    "import radical.utils     as ru\n",
    "import radical.pilot     as rp\n",
    "import radical.analytics as ra\n",
    "\n",
    "from   radical.utils.profile import *\n",
    "from   radical.pilot.states  import *\n",
    "\n",
    "UNIT_DURATIONS = {\n",
    "        'exec-tot' : [{STATE: AGENT_EXECUTING,              EVENT: 'state'        },\n",
    "                      {STATE: AGENT_STAGING_OUTPUT_PENDING, EVENT: 'state'        }],\n",
    "        'exec-rp'  : [{STATE: None,                         EVENT: 'exec_start'   },\n",
    "                      {STATE: None,                         EVENT: 'exec_stop'    }],\n",
    "        'exec-cu'  : [{STATE: None,                         EVENT: 'cu_start'     },\n",
    "                      {STATE: None,                         EVENT: 'cu_exec_stop' }],\n",
    "        'exec-orte': [{STATE: None,                         EVENT: 'cu_exec_start'},\n",
    "                      {STATE: None,                         EVENT: 'cu_exec_stop' }],\n",
    "        'exec-app' : [{STATE: None,                         EVENT: 'app_start'    },\n",
    "                      {STATE: None,                         EVENT: 'app_stop'     }]}\n",
    "\n",
    "data    = dict()\n",
    "sch_path = '../rawdata/scheduling/'\n",
    "\n",
    "sources = ['%s/rp.session.titan-ext1.merzky1.017832.0006' % sch_path,\n",
    "           '%s/rp.session.titan-ext1.merzky1.017832.0007' % sch_path]\n",
    "\n",
    "for dname in UNIT_DURATIONS:\n",
    "    data[dname]  = list()\n",
    "\n",
    "# get the numbers we actually want to plot\n",
    "fout = open('outliers.dat', 'w')\n",
    "ucnt = 0\n",
    "ocnt = 0\n",
    "for src in sources:\n",
    "    # always point to the tarballs\n",
    "    if src[-4:] != '.tbz':\n",
    "        src += '.tbz'\n",
    "\n",
    "#     print\n",
    "#     print '-----------------------------------------------------------'\n",
    "#     print src\n",
    "\n",
    "    session = ra.Session(src, 'radical.pilot')\n",
    "    units   = session.filter(etype='unit', inplace=True)\n",
    "    sid     = session.uid\n",
    "\n",
    "    for unit in units.get():\n",
    "        for dname in UNIT_DURATIONS:\n",
    "            dur = unit.duration(event=UNIT_DURATIONS[dname])\n",
    "            if dur > 1000.0:\n",
    "                ocnt += 1\n",
    "                fout.write('%10.1f  %s\\n' % (dur, src))\n",
    "                fout.flush()\n",
    "#                 sys.stdout.write('#')\n",
    "            else:\n",
    "                ucnt += 1\n",
    "                data[dname].append(dur)\n",
    "#                 sys.stdout.write('.')\n",
    "            sys.stdout.flush()"
   ]
  },
  {
   "cell_type": "code",
   "execution_count": 6,
   "metadata": {},
   "outputs": [
    {
     "data": {
      "text/plain": [
       "<matplotlib.legend.Legend at 0x11f79fa50>"
      ]
     },
     "execution_count": 6,
     "metadata": {},
     "output_type": "execute_result"
    },
    {
     "name": "stderr",
     "output_type": "stream",
     "text": [
      "/Users/mturilli/Virtualenvs/experiments/lib/python2.7/site-packages/matplotlib/font_manager.py:1331: UserWarning: findfont: Font family [u'serif'] not found. Falling back to DejaVu Sans\n",
      "  (prop.get_family(), self.defaultFamily[fontext]))\n"
     ]
    },
    {
     "data": {
      "image/png": "[encoded data removed]",
      "text/plain": [
       "<Figure size 936x288 with 1 Axes>"
      ]
     },
     "metadata": {
      "needs_background": "light"
     },
     "output_type": "display_data"
    }
   ],
   "source": [
    "fig, ax = fig_setup(figsize=(13,4))\n",
    "\n",
    "data_mean = np.mean(data['exec-app'])\n",
    "data_sigma = np.sqrt(np.var(data['exec-app']))\n",
    "\n",
    "ax.hist(data['exec-app'], bins=100, color=tableau20[9])#, histtype='step')\n",
    "ax.axvline(x=data_mean, color='black', linestyle='dashed')\n",
    "ax.axvspan(data_mean-data_sigma, data_mean+data_sigma, alpha=0.25, color=tableau20[9])\n",
    "\n",
    "ax.set_xlabel('Runtime (s)')\n",
    "ax.set_ylabel('Number of Tasks')\n",
    "ax.legend(['Mean $T_x$ (%ss)' %  round(data_mean, 2), \n",
    "           '$\\sigma$ (%s)'    % round(data_sigma, 2), \n",
    "           '$T_x$'])"
   ]
  },
  {
   "cell_type": "code",
   "execution_count": 7,
   "metadata": {},
   "outputs": [
    {
     "data": {
      "text/plain": [
       "<matplotlib.legend.Legend at 0x11e16abd0>"
      ]
     },
     "execution_count": 7,
     "metadata": {},
     "output_type": "execute_result"
    },
    {
     "data": {
      "image/png": "[encoded data removed]",
      "text/plain": [
       "<Figure size 936x288 with 1 Axes>"
      ]
     },
     "metadata": {
      "needs_background": "light"
     },
     "output_type": "display_data"
    }
   ],
   "source": [
    "fig, ax = fig_setup(figsize=(13,4))\n",
    "\n",
    "# sch[sch.index.isin(['exp1'], level='experiment')]['TTX'].reset_index().plot.bar(\n",
    "#         x='nunit', y='mean', yerr='std', \n",
    "#         width=0.5, color=tableau20[4], ax=ax, rot=45, legend=False)\n",
    "\n",
    "ax1 = sch['TTX'].reset_index().plot.bar(\n",
    "        x='nunit', y='mean', yerr='std', \n",
    "        width=0.5, color=[tableau20[4], tableau20[6],tableau20[6]], ax=ax, rot=45, legend=False)\n",
    "\n",
    "# ax1.axhline(y=np.mean(data['exec-app']), lw=1.5, color='black', ls='dashed')\n",
    "\n",
    "ax.set_xlabel('Number of Tasks/Cores')\n",
    "ax.set_ylabel('Time (s)')\n",
    "ax.set_ylim(0)\n",
    "ax.set_xlim(-0.5)\n",
    "\n",
    "fig.legend(\n",
    "            (mpl.patches.Patch(facecolor=tableau20[4]),\n",
    "             mpl.patches.Patch(facecolor=tableau20[6])\n",
    "             # mpl.lines.Line2D([], [], color='black', linestyle='dashed')\n",
    "            ),\n",
    "            ('TTX Generic Scheduler', 'TTX BoT Scheduler'), \n",
    "            'upper left',\n",
    "            columnspacing=0.75,\n",
    "            handletextpad=0.4,\n",
    "            # bbox_to_anchor=(0.1175, 1.265)\n",
    "            bbox_to_anchor=(0.325, 1.5)\n",
    "          )"
   ]
  },
  {
   "cell_type": "code",
   "execution_count": null,
   "metadata": {},
   "outputs": [],
   "source": []
  }
 ],
 "metadata": {
  "hide_input": false,
  "kernelspec": {
   "display_name": "Python 2",
   "language": "python",
   "name": "python2"
  },
  "language_info": {
   "codemirror_mode": {
    "name": "ipython",
    "version": 2
   },
   "file_extension": ".py",
   "mimetype": "text/x-python",
   "name": "python",
   "nbconvert_exporter": "python",
   "pygments_lexer": "ipython2",
   "version": "2.7.15"
  },
  "varInspector": {
   "cols": {
    "lenName": 16,
    "lenType": 16,
    "lenVar": 40
   },
   "kernels_config": {
    "python": {
     "delete_cmd_postfix": "",
     "delete_cmd_prefix": "del ",
     "library": "var_list.py",
     "varRefreshCmd": "print(var_dic_list())"
    },
    "r": {
     "delete_cmd_postfix": ") ",
     "delete_cmd_prefix": "rm(",
     "library": "var_list.r",
     "varRefreshCmd": "cat(var_dic_list()) "
    }
   },
   "types_to_exclude": [
    "module",
    "function",
    "builtin_function_or_method",
    "instance",
    "_Feature"
   ],
   "window_display": false
  }
 },
 "nbformat": 4,
 "nbformat_minor": 2
}
