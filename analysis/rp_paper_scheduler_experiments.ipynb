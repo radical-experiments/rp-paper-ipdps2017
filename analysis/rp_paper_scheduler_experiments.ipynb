{
 "cells": [
  {
   "cell_type": "code",
   "execution_count": 9,
   "metadata": {},
   "outputs": [
    {
     "data": {
      "text/html": [
       "<style>.container { width:100% !important; }</style>"
      ],
      "text/plain": [
       "<IPython.core.display.HTML object>"
      ]
     },
     "metadata": {},
     "output_type": "display_data"
    }
   ],
   "source": [
    "%matplotlib inline\n",
    "%run 'bin/notebook_utils.py'"
   ]
  },
  {
   "cell_type": "code",
   "execution_count": 10,
   "metadata": {},
   "outputs": [],
   "source": [
    "# Load wrangled data saved in .csv files for scheduling experiment sessions\n",
    "sch_sessions = pd.read_csv('data/scheduler/sessions.csv', index_col=0)\n",
    "sch_pilots = pd.read_csv('data/scheduler/pilots.csv', index_col=0)\n",
    "sch_units = pd.read_csv('data/scheduler/units.csv', index_col=0)"
   ]
  },
  {
   "cell_type": "code",
   "execution_count": 11,
   "metadata": {},
   "outputs": [
    {
     "name": "stdout",
     "output_type": "stream",
     "text": [
      "Scheduler: Total number of successful runs: 1\n",
      "Scheduler: Total number of pilots: 1\n",
      "Scheduler: Total number of units: 256\n",
      "\n"
     ]
    }
   ],
   "source": [
    "print 'Scheduler: Total number of successful runs: %s' % sch_sessions.shape[0]\n",
    "print 'Scheduler: Total number of pilots: %s' % sch_pilots.shape[0]\n",
    "print 'Scheduler: Total number of units: %s\\n' % sch_units.shape[0]"
   ]
  },
  {
   "cell_type": "code",
   "execution_count": 12,
   "metadata": {},
   "outputs": [
    {
     "data": {
      "text/html": [
       "<div>\n",
       "<style scoped>\n",
       "    .dataframe tbody tr th:only-of-type {\n",
       "        vertical-align: middle;\n",
       "    }\n",
       "\n",
       "    .dataframe tbody tr th {\n",
       "        vertical-align: top;\n",
       "    }\n",
       "\n",
       "    .dataframe thead tr th {\n",
       "        text-align: left;\n",
       "    }\n",
       "\n",
       "    .dataframe thead tr:last-of-type th {\n",
       "        text-align: right;\n",
       "    }\n",
       "</style>\n",
       "<table border=\"1\" class=\"dataframe\">\n",
       "  <thead>\n",
       "    <tr>\n",
       "      <th></th>\n",
       "      <th colspan=\"2\" halign=\"left\">TTQ</th>\n",
       "      <th colspan=\"2\" halign=\"left\">Agent queueing</th>\n",
       "      <th colspan=\"2\" halign=\"left\">Agent queueing execution</th>\n",
       "      <th colspan=\"2\" halign=\"left\">TTX</th>\n",
       "      <th colspan=\"2\" halign=\"left\">TTC</th>\n",
       "      <th colspan=\"2\" halign=\"left\">Agent scheduling</th>\n",
       "    </tr>\n",
       "    <tr>\n",
       "      <th></th>\n",
       "      <th>mean</th>\n",
       "      <th>std</th>\n",
       "      <th>mean</th>\n",
       "      <th>std</th>\n",
       "      <th>mean</th>\n",
       "      <th>std</th>\n",
       "      <th>mean</th>\n",
       "      <th>std</th>\n",
       "      <th>mean</th>\n",
       "      <th>std</th>\n",
       "      <th>mean</th>\n",
       "      <th>std</th>\n",
       "    </tr>\n",
       "    <tr>\n",
       "      <th>nunit</th>\n",
       "      <th></th>\n",
       "      <th></th>\n",
       "      <th></th>\n",
       "      <th></th>\n",
       "      <th></th>\n",
       "      <th></th>\n",
       "      <th></th>\n",
       "      <th></th>\n",
       "      <th></th>\n",
       "      <th></th>\n",
       "      <th></th>\n",
       "      <th></th>\n",
       "    </tr>\n",
       "  </thead>\n",
       "  <tbody>\n",
       "    <tr>\n",
       "      <th>256</th>\n",
       "      <td>23676.0705</td>\n",
       "      <td>NaN</td>\n",
       "      <td>11.0161</td>\n",
       "      <td>NaN</td>\n",
       "      <td>4.8353</td>\n",
       "      <td>NaN</td>\n",
       "      <td>1316.2753</td>\n",
       "      <td>NaN</td>\n",
       "      <td>25073.1539</td>\n",
       "      <td>NaN</td>\n",
       "      <td>3.1768</td>\n",
       "      <td>NaN</td>\n",
       "    </tr>\n",
       "  </tbody>\n",
       "</table>\n",
       "</div>"
      ],
      "text/plain": [
       "              TTQ     Agent queueing     Agent queueing execution            TTX             TTC     Agent scheduling    \n",
       "             mean std           mean std                     mean std       mean std        mean std             mean std\n",
       "nunit                                                                                                                    \n",
       "256    23676.0705 NaN        11.0161 NaN                   4.8353 NaN  1316.2753 NaN  25073.1539 NaN           3.1768 NaN"
      ]
     },
     "execution_count": 12,
     "metadata": {},
     "output_type": "execute_result"
    }
   ],
   "source": [
    "sch = sch_sessions[\n",
    "    ['nunit','TTC','P_LRMS_QUEUING','U_AGENT_QUEUING','U_AGENT_SCHEDULING','U_AGENT_QUEUING_EXEC','U_AGENT_EXECUTING']\n",
    "        ].groupby(['nunit']).aggregate(\n",
    "                {'TTC'                 : ['mean','std'],\n",
    "                 'P_LRMS_QUEUING'      : ['mean','std'],\n",
    "                 'U_AGENT_QUEUING'     : ['mean','std'],\n",
    "                 'U_AGENT_SCHEDULING'  : ['mean','std'],\n",
    "                 'U_AGENT_QUEUING_EXEC': ['mean','std'],\n",
    "                 'U_AGENT_EXECUTING'   : ['mean','std']})\n",
    "\n",
    "sch.rename({'P_LRMS_QUEUING'      :'TTQ'}, axis='columns', inplace=True)\n",
    "sch.rename({'U_AGENT_QUEUING'     :'Agent queueing'}, axis='columns', inplace=True)\n",
    "sch.rename({'U_AGENT_SCHEDULING'  :'Agent scheduling'}, axis='columns', inplace=True)\n",
    "sch.rename({'U_AGENT_QUEUING_EXEC':'Agent queueing execution'}, axis='columns', inplace=True)\n",
    "sch.rename({'U_AGENT_EXECUTING'   :'TTX'}, axis='columns', inplace=True)\n",
    "sch.rename(index={i: '%s/%s' % (i, i*32) for i in ss.index.get_values()}, inplace=True)\n",
    "sch"
   ]
  },
  {
   "cell_type": "code",
   "execution_count": 16,
   "metadata": {},
   "outputs": [
    {
     "ename": "ValueError",
     "evalue": "no duration defined for given constraints",
     "output_type": "error",
     "traceback": [
      "\u001b[0;31m---------------------------------------------------------------------------\u001b[0m",
      "\u001b[0;31mValueError\u001b[0m                                Traceback (most recent call last)",
      "\u001b[0;32m<ipython-input-16-5947be8845a1>\u001b[0m in \u001b[0;36m<module>\u001b[0;34m()\u001b[0m\n\u001b[1;32m     51\u001b[0m     \u001b[0;32mfor\u001b[0m \u001b[0munit\u001b[0m \u001b[0;32min\u001b[0m \u001b[0munits\u001b[0m\u001b[0;34m.\u001b[0m\u001b[0mget\u001b[0m\u001b[0;34m(\u001b[0m\u001b[0;34m)\u001b[0m\u001b[0;34m:\u001b[0m\u001b[0;34m\u001b[0m\u001b[0m\n\u001b[1;32m     52\u001b[0m         \u001b[0;32mfor\u001b[0m \u001b[0mdname\u001b[0m \u001b[0;32min\u001b[0m \u001b[0mUNIT_DURATIONS\u001b[0m\u001b[0;34m:\u001b[0m\u001b[0;34m\u001b[0m\u001b[0m\n\u001b[0;32m---> 53\u001b[0;31m             \u001b[0mdur\u001b[0m \u001b[0;34m=\u001b[0m \u001b[0munit\u001b[0m\u001b[0;34m.\u001b[0m\u001b[0mduration\u001b[0m\u001b[0;34m(\u001b[0m\u001b[0mevent\u001b[0m\u001b[0;34m=\u001b[0m\u001b[0mUNIT_DURATIONS\u001b[0m\u001b[0;34m[\u001b[0m\u001b[0mdname\u001b[0m\u001b[0;34m]\u001b[0m\u001b[0;34m)\u001b[0m\u001b[0;34m\u001b[0m\u001b[0m\n\u001b[0m\u001b[1;32m     54\u001b[0m             \u001b[0;32mif\u001b[0m \u001b[0mdur\u001b[0m \u001b[0;34m>\u001b[0m \u001b[0;36m1000.0\u001b[0m\u001b[0;34m:\u001b[0m\u001b[0;34m\u001b[0m\u001b[0m\n\u001b[1;32m     55\u001b[0m                 \u001b[0mocnt\u001b[0m \u001b[0;34m+=\u001b[0m \u001b[0;36m1\u001b[0m\u001b[0;34m\u001b[0m\u001b[0m\n",
      "\u001b[0;32m/Users/mturilli/Virtualenvs/experiments/lib/python2.7/site-packages/radical/analytics/entity.pyc\u001b[0m in \u001b[0;36mduration\u001b[0;34m(self, state, event, time, ranges)\u001b[0m\n\u001b[1;32m    230\u001b[0m \u001b[0;34m\u001b[0m\u001b[0m\n\u001b[1;32m    231\u001b[0m         \u001b[0;32mif\u001b[0m \u001b[0;32mnot\u001b[0m \u001b[0mranges\u001b[0m\u001b[0;34m:\u001b[0m\u001b[0;34m\u001b[0m\u001b[0m\n\u001b[0;32m--> 232\u001b[0;31m             \u001b[0;32mraise\u001b[0m \u001b[0mValueError\u001b[0m\u001b[0;34m(\u001b[0m\u001b[0;34m'no duration defined for given constraints'\u001b[0m\u001b[0;34m)\u001b[0m\u001b[0;34m\u001b[0m\u001b[0m\n\u001b[0m\u001b[1;32m    233\u001b[0m \u001b[0;34m\u001b[0m\u001b[0m\n\u001b[1;32m    234\u001b[0m         \u001b[0;32mreturn\u001b[0m \u001b[0msum\u001b[0m\u001b[0;34m(\u001b[0m\u001b[0mr\u001b[0m\u001b[0;34m[\u001b[0m\u001b[0;36m1\u001b[0m\u001b[0;34m]\u001b[0m \u001b[0;34m-\u001b[0m \u001b[0mr\u001b[0m\u001b[0;34m[\u001b[0m\u001b[0;36m0\u001b[0m\u001b[0;34m]\u001b[0m \u001b[0;32mfor\u001b[0m \u001b[0mr\u001b[0m \u001b[0;32min\u001b[0m \u001b[0mranges\u001b[0m\u001b[0;34m)\u001b[0m\u001b[0;34m\u001b[0m\u001b[0m\n",
      "\u001b[0;31mValueError\u001b[0m: no duration defined for given constraints"
     ]
    }
   ],
   "source": [
    "import sys\n",
    "import pprint\n",
    "\n",
    "import matplotlib.pyplot as plt\n",
    "import numpy             as np\n",
    "\n",
    "import radical.utils     as ru\n",
    "import radical.pilot     as rp\n",
    "import radical.analytics as ra\n",
    "\n",
    "from   radical.utils.profile import *\n",
    "from   radical.pilot.states  import *\n",
    "\n",
    "UNIT_DURATIONS = {\n",
    "        'exec-tot' : [{STATE: AGENT_EXECUTING,              EVENT: 'state'        },\n",
    "                      {STATE: AGENT_STAGING_OUTPUT_PENDING, EVENT: 'state'        }],\n",
    "        'exec-rp'  : [{STATE: None,                         EVENT: 'exec_start'   },\n",
    "                      {STATE: None,                         EVENT: 'exec_stop'    }],\n",
    "        'exec-cu'  : [{STATE: None,                         EVENT: 'cu_start'     },\n",
    "                      {STATE: None,                         EVENT: 'cu_exec_stop' }],\n",
    "        'exec-orte': [{STATE: None,                         EVENT: 'cu_exec_start'},\n",
    "                      {STATE: None,                         EVENT: 'cu_exec_stop' }],\n",
    "        'exec-app' : [{STATE: None,                         EVENT: 'app_start'    },\n",
    "                      {STATE: None,                         EVENT: 'app_stop'     }]}\n",
    "\n",
    "data    = dict()\n",
    "sch_path = '../rawdata/scheduling/'\n",
    "\n",
    "sources = ['%s/ws_syn_titan_256_32_8192_60_1.0' % sch_path,]\n",
    "\n",
    "for dname in UNIT_DURATIONS:\n",
    "    data[dname]  = list()\n",
    "\n",
    "# get the numbers we actually want to plot\n",
    "fout = open('outliers.dat', 'w')\n",
    "ucnt = 0\n",
    "ocnt = 0\n",
    "for src in sources:\n",
    "    # always point to the tarballs\n",
    "    if src[-4:] != '.tbz':\n",
    "        src += '.tbz'\n",
    "\n",
    "#     print\n",
    "#     print '-----------------------------------------------------------'\n",
    "#     print src\n",
    "\n",
    "    session = ra.Session(src, 'radical.pilot')\n",
    "    units   = session.filter(etype='unit', inplace=True)\n",
    "    sid     = session.uid\n",
    "\n",
    "    for unit in units.get():\n",
    "        for dname in UNIT_DURATIONS:\n",
    "            dur = unit.duration(event=UNIT_DURATIONS[dname])\n",
    "            if dur > 1000.0:\n",
    "                ocnt += 1\n",
    "                fout.write('%10.1f  %s\\n' % (dur, src))\n",
    "                fout.flush()\n",
    "#                 sys.stdout.write('#')\n",
    "            else:\n",
    "                ucnt += 1\n",
    "                data[dname].append(dur)\n",
    "#                 sys.stdout.write('.')\n",
    "            sys.stdout.flush()"
   ]
  },
  {
   "cell_type": "code",
   "execution_count": 8,
   "metadata": {},
   "outputs": [
    {
     "data": {
      "text/plain": [
       "<matplotlib.legend.Legend at 0x10ff851d0>"
      ]
     },
     "execution_count": 8,
     "metadata": {},
     "output_type": "execute_result"
    },
    {
     "data": {
      "image/png": "[encoded data removed]",
      "text/plain": [
       "<Figure size 936x288 with 1 Axes>"
      ]
     },
     "metadata": {
      "needs_background": "light"
     },
     "output_type": "display_data"
    }
   ],
   "source": [
    "fig, ax = fig_setup(figsize=(13,4))\n",
    "\n",
    "ax1 = ss['TTX'].reset_index().plot.bar(\n",
    "    x='nunit', y='mean', yerr='std', \n",
    "    width=0.5, color=tableau20[6], ax=ax, rot=45, legend=False)\n",
    "\n",
    "# ax1.axhline(y=np.mean(data['exec-app']), lw=1.5, color='black', ls='dashed')\n",
    "\n",
    "ax.set_xlabel('Number of Tasks/Cores')\n",
    "ax.set_ylabel('Time (s)')\n",
    "ax.set_ylim(0)\n",
    "ax.set_xlim(-0.5)\n",
    "\n",
    "fig.legend((mpl.patches.Patch(facecolor=tableau20[6]),\n",
    "            mpl.lines.Line2D([], [], color='black', linestyle='dashed')),\n",
    "           ('TTX', 'Mean Ideal TTX'), \n",
    "           'upper left',\n",
    "           columnspacing=0.75,\n",
    "           handletextpad=0.3,\n",
    "           bbox_to_anchor=(0.1175, 1.265))"
   ]
  },
  {
   "cell_type": "code",
   "execution_count": null,
   "metadata": {},
   "outputs": [],
   "source": []
  }
 ],
 "metadata": {
  "hide_input": false,
  "kernelspec": {
   "display_name": "Python 2",
   "language": "python",
   "name": "python2"
  },
  "language_info": {
   "codemirror_mode": {
    "name": "ipython",
    "version": 2
   },
   "file_extension": ".py",
   "mimetype": "text/x-python",
   "name": "python",
   "nbconvert_exporter": "python",
   "pygments_lexer": "ipython2",
   "version": "2.7.15"
  },
  "varInspector": {
   "cols": {
    "lenName": 16,
    "lenType": 16,
    "lenVar": 40
   },
   "kernels_config": {
    "python": {
     "delete_cmd_postfix": "",
     "delete_cmd_prefix": "del ",
     "library": "var_list.py",
     "varRefreshCmd": "print(var_dic_list())"
    },
    "r": {
     "delete_cmd_postfix": ") ",
     "delete_cmd_prefix": "rm(",
     "library": "var_list.r",
     "varRefreshCmd": "cat(var_dic_list()) "
    }
   },
   "types_to_exclude": [
    "module",
    "function",
    "builtin_function_or_method",
    "instance",
    "_Feature"
   ],
   "window_display": false
  }
 },
 "nbformat": 4,
 "nbformat_minor": 2
}
