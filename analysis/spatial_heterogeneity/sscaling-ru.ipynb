{
 "cells": [
  {
   "cell_type": "code",
   "execution_count": 3,
   "metadata": {},
   "outputs": [
    {
     "data": {
      "text/html": [
       "<style>.container { width:100% !important; }</style>"
      ],
      "text/plain": [
       "<IPython.core.display.HTML object>"
      ]
     },
     "metadata": {},
     "output_type": "display_data"
    }
   ],
   "source": [
    "%matplotlib inline\n",
    "%run '../bin/notebook_utils.py'\n",
    "import matplotlib.ticker as mticker"
   ]
  },
  {
   "cell_type": "code",
   "execution_count": 9,
   "metadata": {},
   "outputs": [],
   "source": [
    "# Frontera, default MPI\n",
    "sscaling1_sessions = pd.read_csv('../data/spatial-heterogeneity/sessions.csv', index_col=0)"
   ]
  },
  {
   "cell_type": "code",
   "execution_count": 11,
   "metadata": {},
   "outputs": [
    {
     "name": "stdout",
     "output_type": "stream",
     "text": [
      "Strong scaling 1: Total number of successful runs: 1\n"
     ]
    }
   ],
   "source": [
    "print('Strong scaling 1: Total number of successful runs: %s' % sscaling1_sessions.shape[0])"
   ]
  },
  {
   "cell_type": "code",
   "execution_count": 16,
   "metadata": {},
   "outputs": [
    {
     "name": "stdout",
     "output_type": "stream",
     "text": [
      "cache read failed: [Errno 2] No such file or directory: '/Users/mturilli/.radical/analytics/cache//rp.session.login2.frontera.tacc.utexas.edu.mturilli.018320.0001.pickle'\n",
      "WARNING: profile \"../data/spatial-heterogeneity/sscaling1/rp.session.login2.frontera.tacc.utexas.edu.mturilli.018320.0001/cmgr.0002.prof\" not correctly closed.\n",
      "WARNING: profile \"../data/spatial-heterogeneity/sscaling1/rp.session.login2.frontera.tacc.utexas.edu.mturilli.018320.0001/umgr_unschedule_pubsub.prof\" not correctly closed.\n",
      "WARNING: profile \"../data/spatial-heterogeneity/sscaling1/rp.session.login2.frontera.tacc.utexas.edu.mturilli.018320.0001/umgr_staging_input_queue.prof\" not correctly closed.\n",
      "WARNING: profile \"../data/spatial-heterogeneity/sscaling1/rp.session.login2.frontera.tacc.utexas.edu.mturilli.018320.0001/umgr_staging_output_queue.prof\" not correctly closed.\n",
      "session loaded\n"
     ]
    }
   ],
   "source": [
    "# sessions sscaling1\n",
    "# sscaling1_sids = sorted(['../data/spatial-heterogeneity/sscaling1/'+s for s in sscaling1_sessions.drop_duplicates(['nunit']).index.unique().tolist()])\n",
    "# sscaling1_sobjs = ra.Experiment(sscaling1_sids, stype='radical.pilot')\n",
    "sscaling1_sobjs = ra.Experiment(['../data/spatial-heterogeneity/sscaling1/rp.session.login2.frontera.tacc.utexas.edu.mturilli.018320.0001'], stype='radical.pilot')"
   ]
  },
  {
   "cell_type": "code",
   "execution_count": 17,
   "metadata": {},
   "outputs": [],
   "source": [
    "metrics_default = [\n",
    "\n",
    "        # pilot overheads (global)\n",
    "        ['Pilot Startup',     ['boot', 'setup_1']],\n",
    "        ['Pilot Termination', ['term' ]],\n",
    "\n",
    "        # derived pilot durations\n",
    "        ['Agent Nodes',       ['agent']],\n",
    "        ['Warmup',            ['warm' ]],\n",
    "        ['Draining',          ['drain']],\n",
    "        ['Idle',              ['idle' ]],\n",
    "\n",
    "        # unit durations (PRTE)\n",
    "        ['Prepare Execution', ['exec_queue', 'exec_prep']],\n",
    "        ['Execution RP',      ['exec_rp', 'exec_sh', 'term_sh', 'term_rp']],\n",
    "        ['Execution Cmd',     ['exec_cmd']],\n",
    "        ['Unschedule',        ['unschedule']],\n",
    "]"
   ]
  },
  {
   "cell_type": "code",
   "execution_count": 19,
   "metadata": {},
   "outputs": [],
   "source": [
    "# choose the metrics we want to use for resource utilization\n",
    "metrics = metrics_default\n",
    "\n",
    "# get utilization information\n",
    "provided_sscaling1, consumed_sscaling1, stats_abs_sscaling1, stats_rel_sscaling1, info_sscaling1 = sscaling1_sobjs.utilization(metrics=metrics)\n"
   ]
  },
  {
   "cell_type": "code",
   "execution_count": 20,
   "metadata": {},
   "outputs": [],
   "source": [
    "# x-axis labels\n",
    "xkeys_sscaling1 = list()\n",
    "\n",
    "# get the numbers we actually want to plot\n",
    "for session in sscaling1_sobjs.sessions:\n",
    "\n",
    "    n_units = len(session.get(etype='unit'))\n",
    "    \n",
    "    p_size = 0\n",
    "    for pilot in session.get(etype='pilot'):\n",
    "        p_size += pilot.description['cores']\n",
    "\n",
    "    xkeys_sscaling1.append('%s / %s' % (n_units, p_size))"
   ]
  },
  {
   "cell_type": "code",
   "execution_count": 21,
   "metadata": {},
   "outputs": [],
   "source": [
    "def update_ticks(x, pos):\n",
    "    return int(x/4)"
   ]
  },
  {
   "cell_type": "code",
   "execution_count": 26,
   "metadata": {},
   "outputs": [
    {
     "ename": "TypeError",
     "evalue": "'>' not supported between instances of 'float' and 'NoneType'",
     "output_type": "error",
     "traceback": [
      "\u001b[0;31m---------------------------------------------------------------------------\u001b[0m",
      "\u001b[0;31mTypeError\u001b[0m                                 Traceback (most recent call last)",
      "\u001b[0;32m<ipython-input-26-dace2b15c155>\u001b[0m in \u001b[0;36m<module>\u001b[0;34m\u001b[0m\n\u001b[1;32m     51\u001b[0m                 \u001b[0mx_min\u001b[0m \u001b[0;34m=\u001b[0m \u001b[0mmin\u001b[0m\u001b[0;34m(\u001b[0m\u001b[0mx_min\u001b[0m\u001b[0;34m,\u001b[0m \u001b[0morig_x\u001b[0m\u001b[0;34m)\u001b[0m\u001b[0;34m\u001b[0m\u001b[0;34m\u001b[0m\u001b[0m\n\u001b[1;32m     52\u001b[0m                 \u001b[0my_min\u001b[0m \u001b[0;34m=\u001b[0m \u001b[0mmin\u001b[0m\u001b[0;34m(\u001b[0m\u001b[0my_min\u001b[0m\u001b[0;34m,\u001b[0m \u001b[0morig_y\u001b[0m\u001b[0;34m)\u001b[0m\u001b[0;34m\u001b[0m\u001b[0;34m\u001b[0m\u001b[0m\n\u001b[0;32m---> 53\u001b[0;31m                 \u001b[0mx_max\u001b[0m \u001b[0;34m=\u001b[0m \u001b[0mmax\u001b[0m\u001b[0;34m(\u001b[0m\u001b[0mx_max\u001b[0m\u001b[0;34m,\u001b[0m \u001b[0morig_x\u001b[0m \u001b[0;34m+\u001b[0m \u001b[0mwidth\u001b[0m\u001b[0;34m)\u001b[0m\u001b[0;34m\u001b[0m\u001b[0;34m\u001b[0m\u001b[0m\n\u001b[0m\u001b[1;32m     54\u001b[0m                 \u001b[0my_max\u001b[0m \u001b[0;34m=\u001b[0m \u001b[0mmax\u001b[0m\u001b[0;34m(\u001b[0m\u001b[0my_max\u001b[0m\u001b[0;34m,\u001b[0m \u001b[0morig_y\u001b[0m \u001b[0;34m+\u001b[0m \u001b[0mheight\u001b[0m\u001b[0;34m)\u001b[0m\u001b[0;34m\u001b[0m\u001b[0;34m\u001b[0m\u001b[0m\n\u001b[1;32m     55\u001b[0m \u001b[0;34m\u001b[0m\u001b[0m\n",
      "\u001b[0;31mTypeError\u001b[0m: '>' not supported between instances of 'float' and 'NoneType'"
     ]
    },
    {
     "data": {
      "image/png": "[encoded data removed]",
      "text/plain": [
       "<Figure size 936x288 with 1 Axes>"
      ]
     },
     "metadata": {},
     "output_type": "display_data"
    }
   ],
   "source": [
    "# core utilization over time (box plot)\n",
    "sid = 'rp.session.login2.frontera.tacc.utexas.edu.mturilli.018320.0001' # 8192 units| 2 nodes\n",
    "consumed = consumed_sscaling1\n",
    "\n",
    "fig, ax = fig_setup(figsize=(13,4))\n",
    "\n",
    "cmap = mpl.cm.get_cmap('tab20c')\n",
    "\n",
    "step = 1.0 / (len(metrics) + 1)\n",
    "this = step / 1.0\n",
    "legend = list()\n",
    "\n",
    "x_min = None\n",
    "x_max = None\n",
    "y_min = None\n",
    "y_max = None\n",
    "\n",
    "ax.title.set_text('%s/%s Tasks/Nodes' % ('8192','32'))#(sscaling_sessions.loc[sid].nunit, int(sscaling_sessions.loc[sid].nnode)))\n",
    "\n",
    "for metric in metrics:\n",
    "\n",
    "    color = cmap(this)\n",
    "    this += step\n",
    "\n",
    "    legend.append(mpl.lines.Line2D([0], [0], color=color, lw=6))\n",
    "\n",
    "    if isinstance(metric, list):\n",
    "        name = metric[0]\n",
    "        parts = metric[1]\n",
    "    else:\n",
    "        name = metric\n",
    "        parts = [metric]\n",
    "\n",
    "    for part in parts:\n",
    "        for uid in consumed[sid][part]:\n",
    "            for block in consumed[sid][part][uid]:\n",
    "                orig_x = block[0]\n",
    "                orig_y = block[2] - 0.5\n",
    "                width = block[1] - block[0]\n",
    "                height = block[3] - block[2] + 1.0\n",
    "\n",
    "                if x_min is None:\n",
    "                    x_min = orig_x\n",
    "                if x_max is None:\n",
    "                    x_min = orig_x + width\n",
    "                if y_min is None:\n",
    "                    y_min = orig_x\n",
    "                if y_max is None:\n",
    "                    y_min = orig_x + height\n",
    "\n",
    "                x_min = min(x_min, orig_x)\n",
    "                y_min = min(y_min, orig_y)\n",
    "                x_max = max(x_max, orig_x + width)\n",
    "                y_max = max(y_max, orig_y + height)\n",
    "\n",
    "                patch = mpl.patches.Rectangle((orig_x, orig_y),\n",
    "                                              width, height,\n",
    "                                              facecolor=color,\n",
    "                                              edgecolor='black',\n",
    "                                              fill=True, lw=0.0)\n",
    "                ax.add_patch(patch)\n",
    "\n",
    "ax.set_xlim([x_min, x_max])\n",
    "ax.set_ylim([y_min, y_max])\n",
    "\n",
    "ax.set_xlabel('Time (s)')\n",
    "ax.set_ylabel('Core ID')\n",
    "\n",
    "ax.yaxis.set_major_formatter(mticker.FuncFormatter(update_ticks))\n",
    "\n",
    "# Add legend\n",
    "fig.legend(legend, \n",
    "       [m[0] for m in metrics], \n",
    "       loc='upper center', \n",
    "       bbox_to_anchor=(0.5, 1.54),\n",
    "       fontsize=20,\n",
    "       ncol=3)\n",
    "\n",
    "plt.savefig('figures/paper_rp_frontera_strong_scaling_heterogeneous.pdf', dpi=300, bbox_inches='tight')\n",
    "plt.savefig('figures/paper_rp_frontera_strong_scaling_heterogeneous.png', dpi=300, bbox_inches='tight')"
   ]
  },
  {
   "cell_type": "code",
   "execution_count": null,
   "metadata": {},
   "outputs": [],
   "source": []
  }
 ],
 "metadata": {
  "hide_input": false,
  "kernelspec": {
   "display_name": "Python 3",
   "language": "python",
   "name": "python3"
  },
  "language_info": {
   "codemirror_mode": {
    "name": "ipython",
    "version": 3
   },
   "file_extension": ".py",
   "mimetype": "text/x-python",
   "name": "python",
   "nbconvert_exporter": "python",
   "pygments_lexer": "ipython3",
   "version": "3.7.6"
  },
  "varInspector": {
   "cols": {
    "lenName": 16,
    "lenType": 16,
    "lenVar": 40
   },
   "kernels_config": {
    "python": {
     "delete_cmd_postfix": "",
     "delete_cmd_prefix": "del ",
     "library": "var_list.py",
     "varRefreshCmd": "print(var_dic_list())"
    },
    "r": {
     "delete_cmd_postfix": ") ",
     "delete_cmd_prefix": "rm(",
     "library": "var_list.r",
     "varRefreshCmd": "cat(var_dic_list()) "
    }
   },
   "types_to_exclude": [
    "module",
    "function",
    "builtin_function_or_method",
    "instance",
    "_Feature"
   ],
   "window_display": false
  }
 },
 "nbformat": 4,
 "nbformat_minor": 4
}
